{
 "cells": [
  {
   "cell_type": "markdown",
   "metadata": {},
   "source": [
    "## NGC-5"
   ]
  },
  {
   "cell_type": "markdown",
   "metadata": {},
   "source": [
    "```sql\n",
    "DROP TABLE IF EXISTS customers; -- Delete tabel customers\n",
    "\n",
    "-- Bikin tabel customers, just in case table didrop\n",
    "CREATE TABLE customers (\n",
    "\tcustomer_id SERIAL PRIMARY KEY,\n",
    "\tcustomer_name VARCHAR(50) NOT NULL,\n",
    "\tcity VARCHAR(50) NOT NULL\n",
    "\t\n",
    ");\n",
    "\n",
    "DROP TABLE IF EXISTS orders; -- Delete tabel orders\n",
    "\n",
    "-- Bikin tabel orders, just in case table didrop\n",
    "CREATE TABLE orders (\n",
    "\torder_id SERIAL PRIMARY KEY,\n",
    "\tcustomer_id INTEGER REFERENCES customers(customer_id),\n",
    "\torder_date DATE,\n",
    "\ttotal_amount DECIMAL(10,2)\n",
    ");\n",
    "\n",
    "SELECT * FROM customers -- Cetak tabel\n",
    "\n",
    "SELECT * FROM orders\n",
    "\n",
    "-- Masukkin data\n",
    "INSERT INTO customers (customer_name, city)\n",
    "VALUES\n",
    "\t('John Doe', 'New York'),\n",
    "\t('Jane Smith', 'Los Angeles'),\n",
    "\t('David Johnson', 'Chicago');\n",
    "\n",
    "INSERT INTO orders (customer_id, order_date, total_amount)\n",
    "VALUES\n",
    "\t(1, '2022-01-10', 100.00),\n",
    "\t(1, '2022-02-15', 150.00),\n",
    "\t(2, '2022-03-20', 200.00),\n",
    "\t(3, '2022-04-25', 50.00);\n",
    "\t\n",
    "\n",
    "SELECT customers.customer_name, COUNT(orders.order_id) as total_orders\n",
    "-- SELECT gk mungkin ngubah data\n",
    "-- SELECT COUNT di sini ceritanya manggil kolom hasil COUNT yang kemudian dinamai total_orders\n",
    "FROM orders\n",
    "LEFT JOIN customers ON orders.customer_id = customers.customer_id\n",
    "GROUP BY customers.customer_id -- Kalau primary key nggk masalah\n",
    "\n",
    "-- 'customers.customer_name' mengambil kolom customer_name dari tabel customers\n",
    "-- 'COUNT(orders.order_id)' menghitung order_id di tabel orders\n",
    "-- Mau dapetin order_id masing masing customer, sehingga dikelompokkan by customer_id\n",
    "-- dikelompokkan by customer_id karena kalau namenya ada yg sama dianggap orang yang sama\n",
    "-- 'FROM orders' bisa dieksekusi karena ada 'LEFT JOIN' di bawahnya (meskipun di orders gk ada\n",
    "-- customer_name)\n",
    "-- Yang dicari adalah total_orders sehingga carinya dari tabel orders\n",
    "-- Berkaitan dengan tujuan query-nya, mau ngapain\n",
    "```"
   ]
  }
 ],
 "metadata": {
  "language_info": {
   "name": "python"
  }
 },
 "nbformat": 4,
 "nbformat_minor": 2
}
